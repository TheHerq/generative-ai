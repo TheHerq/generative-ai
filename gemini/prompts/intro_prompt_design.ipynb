{
  "cells": [
    {
      "cell_type": "markdown",
      "metadata": {
        "id": "view-in-github",
        "colab_type": "text"
      },
      "source": [
        "<a href=\"https://colab.research.google.com/github/TheHerq/generative-ai/blob/main/gemini/prompts/intro_prompt_design.ipynb\" target=\"_parent\"><img src=\"https://colab.research.google.com/assets/colab-badge.svg\" alt=\"Open In Colab\"/></a>"
      ]
    },
    {
      "cell_type": "code",
      "execution_count": null,
      "metadata": {
        "id": "ur8xi4C7S06n"
      },
      "outputs": [],
      "source": [
        "# Copyright 2024 Google LLC\n",
        "#\n",
        "# Licensed under the Apache License, Version 2.0 (the \"License\");\n",
        "# you may not use this file except in compliance with the License.\n",
        "# You may obtain a copy of the License at\n",
        "#\n",
        "#     https://www.apache.org/licenses/LICENSE-2.0\n",
        "#\n",
        "# Unless required by applicable law or agreed to in writing, software\n",
        "# distributed under the License is distributed on an \"AS IS\" BASIS,\n",
        "# WITHOUT WARRANTIES OR CONDITIONS OF ANY KIND, either express or implied.\n",
        "# See the License for the specific language governing permissions and\n",
        "# limitations under the License."
      ]
    },
    {
      "cell_type": "markdown",
      "metadata": {
        "id": "JAPoU8Sm5E6e"
      },
      "source": [
        "# Prompt Design - Best Practices\n",
        "\n",
        "<table align=\"left\">\n",
        "  <td style=\"text-align: center\">\n",
        "    <a href=\"https://colab.research.google.com/github/GoogleCloudPlatform/generative-ai/blob/main/gemini/prompts/intro_prompt_design.ipynb\">\n",
        "      <img src=\"https://cloud.google.com/ml-engine/images/colab-logo-32px.png\" alt=\"Google Colaboratory logo\"><br> Open in Colab\n",
        "    </a>\n",
        "  </td>\n",
        "  <td style=\"text-align: center\">\n",
        "    <a href=\"https://console.cloud.google.com/vertex-ai/colab/import/https:%2F%2Fraw.githubusercontent.com%2FGoogleCloudPlatform%2Fgenerative-ai%2Fmain%2Fgemini%2Fprompts%2Fintro_prompt_design.ipynb\">\n",
        "      <img width=\"32px\" src=\"https://lh3.googleusercontent.com/JmcxdQi-qOpctIvWKgPtrzZdJJK-J3sWE1RsfjZNwshCFgE_9fULcNpuXYTilIR2hjwN\" alt=\"Google Cloud Colab Enterprise logo\"><br> Open in Colab Enterprise\n",
        "    </a>\n",
        "  </td>    \n",
        "  <td style=\"text-align: center\">\n",
        "    <a href=\"https://console.cloud.google.com/vertex-ai/workbench/deploy-notebook?download_url=https://raw.githubusercontent.com/GoogleCloudPlatform/generative-ai/main/gemini/prompts/intro_prompt_design.ipynb\">\n",
        "      <img src=\"https://lh3.googleusercontent.com/UiNooY4LUgW_oTvpsNhPpQzsstV5W8F7rYgxgGBD85cWJoLmrOzhVs_ksK_vgx40SHs7jCqkTkCk=e14-rj-sc0xffffff-h130-w32\" alt=\"Vertex AI logo\"><br> Open in Workbench\n",
        "    </a>\n",
        "  </td>\n",
        "  <td style=\"text-align: center\">\n",
        "    <a href=\"https://github.com/GoogleCloudPlatform/generative-ai/blob/main/gemini/prompts/intro_prompt_design.ipynb\">\n",
        "      <img src=\"https://cloud.google.com/ml-engine/images/github-logo-32px.png\" alt=\"GitHub logo\"><br> View on GitHub\n",
        "    </a>\n",
        "  </td>\n",
        "  <td style=\"text-align: center\">\n",
        "    <a href=\"https://goo.gle/4fWHlze\">\n",
        "      <img width=\"32px\" src=\"https://cdn.qwiklabs.com/assets/gcp_cloud-e3a77215f0b8bfa9b3f611c0d2208c7e8708ed31.svg\" alt=\"Google Cloud logo\"><br> Open in  Cloud Skills Boost\n",
        "    </a>\n",
        "  </td>\n",
        "</table>\n",
        "\n",
        "<div style=\"clear: both;\"></div>\n",
        "\n",
        "<b>Share to:</b>\n",
        "\n",
        "<a href=\"https://www.linkedin.com/sharing/share-offsite/?url=https%3A//github.com/GoogleCloudPlatform/generative-ai/blob/main/gemini/prompts/intro_prompt_design.ipynb\" target=\"_blank\">\n",
        "  <img width=\"20px\" src=\"https://upload.wikimedia.org/wikipedia/commons/8/81/LinkedIn_icon.svg\" alt=\"LinkedIn logo\">\n",
        "</a>\n",
        "\n",
        "<a href=\"https://bsky.app/intent/compose?text=https%3A//github.com/GoogleCloudPlatform/generative-ai/blob/main/gemini/prompts/intro_prompt_design.ipynb\" target=\"_blank\">\n",
        "  <img width=\"20px\" src=\"https://upload.wikimedia.org/wikipedia/commons/7/7a/Bluesky_Logo.svg\" alt=\"Bluesky logo\">\n",
        "</a>\n",
        "\n",
        "<a href=\"https://twitter.com/intent/tweet?url=https%3A//github.com/GoogleCloudPlatform/generative-ai/blob/main/gemini/prompts/intro_prompt_design.ipynb\" target=\"_blank\">\n",
        "  <img width=\"20px\" src=\"https://upload.wikimedia.org/wikipedia/commons/5/5a/X_icon_2.svg\" alt=\"X logo\">\n",
        "</a>\n",
        "\n",
        "<a href=\"https://reddit.com/submit?url=https%3A//github.com/GoogleCloudPlatform/generative-ai/blob/main/gemini/prompts/intro_prompt_design.ipynb\" target=\"_blank\">\n",
        "  <img width=\"20px\" src=\"https://redditinc.com/hubfs/Reddit%20Inc/Brand/Reddit_Logo.png\" alt=\"Reddit logo\">\n",
        "</a>\n",
        "\n",
        "<a href=\"https://www.facebook.com/sharer/sharer.php?u=https%3A//github.com/GoogleCloudPlatform/generative-ai/blob/main/gemini/prompts/intro_prompt_design.ipynb\" target=\"_blank\">\n",
        "  <img width=\"20px\" src=\"https://upload.wikimedia.org/wikipedia/commons/5/51/Facebook_f_logo_%282019%29.svg\" alt=\"Facebook logo\">\n",
        "</a>            "
      ]
    },
    {
      "cell_type": "markdown",
      "metadata": {
        "id": "84f0f73a0f76"
      },
      "source": [
        "| | |\n",
        "|-|-|\n",
        "|Author(s) | [Polong Lin](https://github.com/polong-lin), [Karl Weinmeister](https://github.com/kweinmeister) |"
      ]
    },
    {
      "cell_type": "markdown",
      "metadata": {
        "id": "tvgnzT1CKxrO"
      },
      "source": [
        "## Overview\n",
        "\n",
        "This notebook covers the essentials of prompt engineering, including some best practices.\n",
        "\n",
        "Learn more about prompt design in the [official documentation](https://cloud.google.com/vertex-ai/docs/generative-ai/text/text-overview).\n",
        "\n",
        "In this notebook, you learn best practices around prompt engineering -- how to design prompts to improve the quality of your responses.\n",
        "\n",
        "This notebook covers the following best practices for prompt engineering:\n",
        "\n",
        "- Be concise\n",
        "- Be specific and well-defined\n",
        "- Ask one task at a time\n",
        "- Turn generative tasks into classification tasks\n",
        "- Improve response quality by including examples"
      ]
    },
    {
      "cell_type": "markdown",
      "metadata": {
        "id": "61RBz8LLbxCR"
      },
      "source": [
        "## Getting Started"
      ]
    },
    {
      "cell_type": "markdown",
      "metadata": {
        "id": "No17Cw5hgx12"
      },
      "source": [
        "### Install Google Gen AI SDK\n"
      ]
    },
    {
      "cell_type": "code",
      "execution_count": 1,
      "metadata": {
        "id": "tFy3H3aPgx12"
      },
      "outputs": [],
      "source": [
        "%pip install --upgrade --quiet google-genai"
      ]
    },
    {
      "cell_type": "markdown",
      "metadata": {
        "id": "R5Xep4W9lq-Z"
      },
      "source": [
        "### Restart runtime\n",
        "\n",
        "To use the newly installed packages in this Jupyter runtime, you must restart the runtime. You can do this by running the cell below, which will restart the current kernel."
      ]
    },
    {
      "cell_type": "code",
      "execution_count": 2,
      "metadata": {
        "id": "XRvKdaPDTznN",
        "outputId": "2d417c60-7122-4364-e286-971e8bb8230c",
        "colab": {
          "base_uri": "https://localhost:8080/"
        }
      },
      "outputs": [
        {
          "output_type": "execute_result",
          "data": {
            "text/plain": [
              "{'status': 'ok', 'restart': True}"
            ]
          },
          "metadata": {},
          "execution_count": 2
        }
      ],
      "source": [
        "import IPython\n",
        "\n",
        "app = IPython.Application.instance()\n",
        "app.kernel.do_shutdown(True)"
      ]
    },
    {
      "cell_type": "markdown",
      "metadata": {
        "id": "SbmM4z7FOBpM"
      },
      "source": [
        "<div class=\"alert alert-block alert-warning\">\n",
        "<b>⚠️ The kernel is going to restart. Please wait until it is finished before continuing to the next step. ⚠️</b>\n",
        "</div>\n"
      ]
    },
    {
      "cell_type": "markdown",
      "metadata": {
        "id": "dmWOrTJ3gx13"
      },
      "source": [
        "### Authenticate your notebook environment (Colab only)\n",
        "\n",
        "Authenticate your environment on Google Colab.\n"
      ]
    },
    {
      "cell_type": "code",
      "execution_count": 1,
      "metadata": {
        "id": "NyKGtVQjgx13"
      },
      "outputs": [],
      "source": [
        "import sys\n",
        "\n",
        "if \"google.colab\" in sys.modules:\n",
        "    from google.colab import auth\n",
        "\n",
        "    auth.authenticate_user()"
      ]
    },
    {
      "cell_type": "markdown",
      "metadata": {
        "id": "06489bd14f16"
      },
      "source": [
        "### Import libraries\n"
      ]
    },
    {
      "cell_type": "code",
      "execution_count": 2,
      "metadata": {
        "id": "154137022fb6"
      },
      "outputs": [],
      "source": [
        "from IPython.display import Markdown, display\n",
        "from google import genai\n",
        "from google.genai.types import GenerateContentConfig"
      ]
    },
    {
      "cell_type": "markdown",
      "metadata": {
        "id": "DF4l8DTdWgPY"
      },
      "source": [
        "### Set Google Cloud project information and create client\n",
        "\n",
        "To get started using Vertex AI, you must have an existing Google Cloud project and [enable the Vertex AI API](https://console.cloud.google.com/flows/enableapi?apiid=aiplatform.googleapis.com).\n",
        "\n",
        "Learn more about [setting up a project and a development environment](https://cloud.google.com/vertex-ai/docs/start/cloud-environment)."
      ]
    },
    {
      "cell_type": "code",
      "execution_count": 3,
      "metadata": {
        "id": "Nqwi-5ufWp_B"
      },
      "outputs": [],
      "source": [
        "import os\n",
        "\n",
        "PROJECT_ID = \"gen-lang-client-0373091914\"  # @param {type: \"string\", placeholder: \"[your-project-id]\", isTemplate: true}\n",
        "if not PROJECT_ID or PROJECT_ID == \"[your-project-id]\":\n",
        "    PROJECT_ID = str(os.environ.get(\"GOOGLE_CLOUD_PROJECT\"))\n",
        "\n",
        "LOCATION = os.environ.get(\"GOOGLE_CLOUD_REGION\", \"us-central1\")"
      ]
    },
    {
      "cell_type": "code",
      "execution_count": 4,
      "metadata": {
        "id": "QqRWdPGmW3NJ"
      },
      "outputs": [],
      "source": [
        "client = genai.Client(vertexai=True, project=PROJECT_ID, location=LOCATION)"
      ]
    },
    {
      "cell_type": "markdown",
      "metadata": {
        "id": "OnFPpCRtXRl4"
      },
      "source": [
        "### Load model\n",
        "\n",
        "Learn more about all [Gemini models on Vertex AI](https://cloud.google.com/vertex-ai/generative-ai/docs/learn/models#gemini-models)."
      ]
    },
    {
      "cell_type": "code",
      "execution_count": 5,
      "metadata": {
        "id": "IQYu_9SvXQah"
      },
      "outputs": [],
      "source": [
        "MODEL_ID = \"gemini-2.0-flash-001\"  # @param {type: \"string\"}"
      ]
    },
    {
      "cell_type": "markdown",
      "metadata": {
        "id": "cVOtUNJ5X0PY"
      },
      "source": [
        "## Prompt engineering best practices"
      ]
    },
    {
      "cell_type": "markdown",
      "metadata": {
        "id": "uv_e0fEPX60q"
      },
      "source": [
        "Prompt engineering is all about how to design your prompts so that the response is what you were indeed hoping to see.\n",
        "\n",
        "The idea of using \"unfancy\" prompts is to minimize the noise in your prompt to reduce the possibility of the LLM misinterpreting the intent of the prompt. Below are a few guidelines on how to engineer \"unfancy\" prompts.\n",
        "\n",
        "In this section, you'll cover the following best practices when engineering prompts:\n",
        "\n",
        "* Be concise\n",
        "* Be specific, and well-defined\n",
        "* Ask one task at a time\n",
        "* Improve response quality by including examples\n",
        "* Turn generative tasks to classification tasks to improve safety"
      ]
    },
    {
      "cell_type": "markdown",
      "metadata": {
        "id": "0pY4XX0OX9_Y"
      },
      "source": [
        "### Be concise"
      ]
    },
    {
      "cell_type": "markdown",
      "metadata": {
        "id": "xlRpxyxGYA1K"
      },
      "source": [
        "🛑 Not recommended. The prompt below is unnecessarily verbose."
      ]
    },
    {
      "cell_type": "code",
      "execution_count": 6,
      "metadata": {
        "id": "YKV4G-CfXdbi",
        "outputId": "b5a7fb59-bd05-4d2e-f124-3ab0cdd5b28e",
        "colab": {
          "base_uri": "https://localhost:8080/",
          "height": 685
        }
      },
      "outputs": [
        {
          "output_type": "display_data",
          "data": {
            "text/plain": [
              "<IPython.core.display.Markdown object>"
            ],
            "text/markdown": "Okay, here are some name ideas for a dried flower shop, playing on different aspects like longevity, natural beauty, artistry, and the specific medium:\n\n**Emphasizing Longevity & Preservation:**\n\n*   **The Everbloom:** Classic, elegant, and highlights the lasting nature.\n*   **Lasting Petals:** Simple, descriptive, and memorable.\n*   **Eternal Blooms:** A touch romantic and emphasizes the lasting quality.\n*   **Preserved Petals:** Clear and direct about the product.\n*   **The Timeless Bouquet:** Suggests elegance and enduring beauty.\n*   **Forever Flora:** Catchy and easy to remember.\n\n**Emphasizing Natural Beauty & Earthiness:**\n\n*   **Golden Grasses:** Highlights a popular dried flower element.\n*   **Rustic Blooms:** Evokes a natural, slightly unrefined aesthetic.\n*   **Earth & Stem:** Connects the flowers to their natural origins.\n*   **The Meadow Keeper:** Suggests a preservation of natural beauty.\n*   **Wildflower Whisper:** Evokes a sense of gentle, natural beauty.\n*   **Sunbaked Blossoms:** Paints a picture of how the flowers are dried.\n\n**Emphasizing Artistry & Craft:**\n\n*   **The Dried Canvas:** Suggests artistic arrangement and creativity.\n*   **Floral Alchemy:** Implies a transformation of flowers into something special.\n*   **Botanical Artistry:** Clear and professional, highlighting the craft.\n*   **The Petal Painter:** A more whimsical and creative name.\n*   **Sculpted Stems:** Focuses on the form and arrangement.\n\n**More Unique & Playful Names:**\n\n*   **The Still Life Florist:** A clever and artistic name.\n*   **Whispers of Willow:** Evokes a sense of calm and natural elements.\n*   **Dust & Bloom:** A more modern and slightly edgy name.\n*   **Golden Hour Botanicals:** Captures the warm, beautiful light that enhances dried flowers.\n*   **The Herbarium:** A nod to botanical collections and preservation.\n\n**Tips for Choosing the Best Name:**\n\n*   **Consider your target audience:** Are you aiming for a high-end clientele or a more casual, bohemian vibe?\n*   **Check for availability:** Make sure the name isn't already in use by another flower shop in your area (or online).  Check domain name availability as well!\n*   **Say it out loud:** Make sure the name is easy to pronounce and remember.\n*   **Get feedback:** Ask friends, family, or potential customers what they think of your favorite names.\n*   **Think about your branding:** Does the name align with the overall aesthetic and feel of your shop?\n\nI hope this gives you a great starting point! Good luck with your flower shop!\n"
          },
          "metadata": {}
        }
      ],
      "source": [
        "prompt = \"What do you think could be a good name for a flower shop that specializes in selling bouquets of dried flowers more than fresh flowers?\"\n",
        "\n",
        "response = client.models.generate_content(model=MODEL_ID, contents=prompt)\n",
        "display(Markdown(response.text))"
      ]
    },
    {
      "cell_type": "markdown",
      "metadata": {
        "id": "YrJexRHJYnmC"
      },
      "source": [
        "✅ Recommended. The prompt below is to the point and concise."
      ]
    },
    {
      "cell_type": "code",
      "execution_count": 7,
      "metadata": {
        "id": "VHetn9lCYrXB",
        "outputId": "7bbcfa98-e429-41df-8a90-eceefffc84fe",
        "colab": {
          "base_uri": "https://localhost:8080/",
          "height": 923
        }
      },
      "outputs": [
        {
          "output_type": "display_data",
          "data": {
            "text/plain": [
              "<IPython.core.display.Markdown object>"
            ],
            "text/markdown": "Okay, here are some name suggestions for a dried flower shop, categorized for different vibes:\n\n**Elegant & Refined:**\n\n*   The Everlasting Bloom\n*   Petrified Petals\n*   Timeless Flora\n*   Preserved Posies\n*   The Gilded Stem\n*   Amber Blooms\n*   Eternal Petal\n*   The Still Life Florist\n*   Verdant Echoes\n*   The Bloom Conservatory\n\n**Modern & Chic:**\n\n*   Dried & Dusted\n*   The Dried Flower Studio\n*   Bloom Haus Dry\n*   Pressed\n*   The Evermore Florist\n*   Dry Goods Floral\n*   Reimagine Flowers\n*   Bloom & Fade\n\n**Rustic & Natural:**\n\n*   The Dry Garden\n*   Wild & Withered\n*   Prairie Dried\n*   Rustic Remains\n*   The Seedling Storie\n*   The Humble Stem\n*   Harvest Blooms\n\n**Whimsical & Playful:**\n\n*   The Flower Alchemist\n*   The Curious Bloom\n*   Once Upon a Bloom\n*   Dust & Wonder\n*   Fairy Ring Florals\n*   The Time Capsule Florist\n\n**Location Specific (If applicable):**\n\n*   [Town/City Name] Dried Flowers\n*   [Neighborhood Name] Florals\n*   [Landmark] Blooms\n\n**Tips for Choosing:**\n\n*   **Consider your target audience:**  Are you aiming for a high-end clientele or a more casual, bohemian crowd?\n*   **Check for availability:**  Make sure the name isn't already in use in your area (or online!) and that you can secure a domain name and social media handles.\n*   **Say it out loud:**  Does it sound good and memorable?\n*   **Get feedback:**  Ask friends, family, or potential customers for their opinions.\n*   **Does it reflect your brand?:** What feelings do you want to evoke with your shop?\n\nI hope this helps! Good luck with your flower shop!\n"
          },
          "metadata": {}
        }
      ],
      "source": [
        "prompt = \"Suggest a name for a flower shop that sells bouquets of dried flowers\"\n",
        "\n",
        "response = client.models.generate_content(model=MODEL_ID, contents=prompt)\n",
        "display(Markdown(response.text))"
      ]
    },
    {
      "cell_type": "markdown",
      "metadata": {
        "id": "eXTAvdOHY0OC"
      },
      "source": [
        "### Be specific, and well-defined"
      ]
    },
    {
      "cell_type": "markdown",
      "metadata": {
        "id": "FTH4GEIgY1dp"
      },
      "source": [
        "Suppose that you want to brainstorm creative ways to describe Earth."
      ]
    },
    {
      "cell_type": "markdown",
      "metadata": {
        "id": "o5BmXBiGY4KC"
      },
      "source": [
        "🛑 The prompt below might be a bit too generic (which is certainly OK if you'd like to ask a generic question!)"
      ]
    },
    {
      "cell_type": "code",
      "execution_count": 8,
      "metadata": {
        "id": "eHBaMvv7Y6mR",
        "outputId": "0d098dee-7f95-40a1-8fb6-566d09424b50",
        "colab": {
          "base_uri": "https://localhost:8080/",
          "height": 1000
        }
      },
      "outputs": [
        {
          "output_type": "display_data",
          "data": {
            "text/plain": [
              "<IPython.core.display.Markdown object>"
            ],
            "text/markdown": "Okay, let's dive into the wonders of Earth! Here's a comprehensive overview:\n\n**Basic Facts:**\n\n*   **Name:** Earth (also called Terra)\n*   **Planet Type:** Terrestrial (rocky)\n*   **Position in Solar System:** 3rd planet from the Sun\n*   **Diameter:** About 12,742 kilometers (7,918 miles)\n*   **Circumference:** Roughly 40,075 kilometers (24,901 miles)\n*   **Mass:** Approximately 5.97 x 10^24 kilograms\n*   **Orbit:**\n    *   Elliptical (not perfectly circular)\n    *   Average distance from the Sun: About 149.6 million kilometers (93 million miles) - this distance is also defined as 1 Astronomical Unit (AU).\n    *   Orbital period (one year): About 365.25 days. This is why we have leap years.\n*   **Rotation:**\n    *   Rotation period (one day): About 23 hours, 56 minutes, and 4 seconds\n    *   Tilted on its axis at 23.5 degrees, which causes the seasons.\n*   **Atmosphere:**\n    *   Primarily composed of:\n        *   Nitrogen (78%)\n        *   Oxygen (21%)\n        *   Argon (0.9%)\n        *   Trace amounts of other gases, including carbon dioxide, neon, helium, methane, and water vapor.\n    *   Protects life from harmful solar radiation and regulates temperature.\n*   **Surface:**\n    *   About 71% covered by water (oceans, seas, lakes, rivers, ice)\n    *   29% land (continents, islands)\n    *   Diverse landforms: mountains, valleys, plains, deserts, etc.\n*   **Moon:** One natural satellite, the Moon (Luna)\n\n**Internal Structure:**\n\nEarth is layered, like an onion:\n\n1.  **Crust:**\n    *   Outermost layer, relatively thin and rocky.\n    *   Two types:\n        *   Oceanic crust: Thinner, denser, composed mainly of basalt.\n        *   Continental crust: Thicker, less dense, composed mainly of granite.\n    *   Broken into tectonic plates that float on the mantle.\n\n2.  **Mantle:**\n    *   Thickest layer, making up about 84% of Earth's volume.\n    *   Mostly solid, but behaves like a very viscous (slow-flowing) fluid over long periods.\n    *   Composed mainly of silicate rocks rich in iron and magnesium.\n    *   The upper part of the mantle, along with the crust, forms the lithosphere. Below that is the asthenosphere, a more ductile (easily deformed) layer on which the lithosphere moves.\n\n3.  **Core:**\n    *   Innermost layer, composed mainly of iron and nickel.\n    *   Two parts:\n        *   Outer core: Liquid, responsible for Earth's magnetic field. The movement of molten iron generates electric currents, which create the magnetic field through a process called the geodynamo.\n        *   Inner core: Solid, due to immense pressure.\n\n**Key Features & Processes:**\n\n*   **Plate Tectonics:** The theory that Earth's lithosphere is divided into plates that move and interact, causing earthquakes, volcanoes, mountain building, and the formation of ocean trenches.\n*   **Magnetic Field:** Generated by the movement of molten iron in the outer core. Protects Earth from harmful solar wind.\n*   **Atmosphere and Climate:** The atmosphere regulates temperature, distributes heat, and protects life. Earth's climate is complex and influenced by many factors, including solar radiation, atmospheric composition, ocean currents, and landforms.\n*   **Water Cycle:** Continuous movement of water between the oceans, atmosphere, and land through evaporation, condensation, precipitation, and runoff.\n*   **Life:** The only known planet to harbor life. The conditions on Earth – liquid water, a protective atmosphere, a stable climate, and available energy sources – have allowed life to evolve and thrive.\n\n**Why is Earth Special?**\n\n*   **Liquid Water:**  Essential for life as we know it. Earth is within the \"habitable zone\" of the Sun, where temperatures allow liquid water to exist on the surface.\n*   **Oxygen-Rich Atmosphere:**  Created by photosynthetic organisms over billions of years.  Essential for many forms of life.\n*   **Plate Tectonics:**  Helps to recycle nutrients and regulate the Earth's temperature over long periods. It also plays a role in creating diverse landscapes.\n*   **Magnetic Field:**  Shields the planet from harmful solar radiation.\n*   **Stable Climate:**  While Earth's climate can change, it has been relatively stable for long periods, allowing life to evolve and diversify.\n\n**Earth in the Solar System:**\n\n*   Earth is one of the four terrestrial planets in the inner solar system (along with Mercury, Venus, and Mars).\n*   It is the largest of the terrestrial planets.\n*   It is located at the ideal distance from the Sun to support liquid water on its surface.\n*   It is influenced by the gravity of the Sun, the Moon, and other planets.\n\n**Ongoing Research & Concerns:**\n\n*   **Climate Change:**  A major concern caused by human activities, primarily the burning of fossil fuels. Leading to rising temperatures, sea level rise, extreme weather events, and disruptions to ecosystems.\n*   **Biodiversity Loss:**  The decline in the variety of life on Earth, driven by habitat destruction, pollution, climate change, and overexploitation of resources.\n*   **Pollution:**  Contamination of air, water, and land with harmful substances.\n*   **Resource Depletion:**  The overuse and exhaustion of natural resources, such as fossil fuels, minerals, and fresh water.\n*   **Space Exploration:** Continued study to better understand Earth by exploration of other celestial bodies.\n\n**In summary, Earth is a dynamic and unique planet, constantly changing and evolving. It's a complex system with interconnected components, and understanding its processes is crucial for addressing the challenges facing humanity.**\n"
          },
          "metadata": {}
        }
      ],
      "source": [
        "prompt = \"Tell me about Earth\"\n",
        "\n",
        "response = client.models.generate_content(model=MODEL_ID, contents=prompt)\n",
        "display(Markdown(response.text))"
      ]
    },
    {
      "cell_type": "markdown",
      "metadata": {
        "id": "4iyvEbteZnFL"
      },
      "source": [
        "✅ Recommended. The prompt below is specific and well-defined."
      ]
    },
    {
      "cell_type": "code",
      "execution_count": 9,
      "metadata": {
        "id": "JQ80z8urZnne",
        "outputId": "a8f01b62-386f-4bb4-f7b6-9f2f5b9d51e0",
        "colab": {
          "base_uri": "https://localhost:8080/",
          "height": 784
        }
      },
      "outputs": [
        {
          "output_type": "display_data",
          "data": {
            "text/plain": [
              "<IPython.core.display.Markdown object>"
            ],
            "text/markdown": "Okay, here's a list of features that contribute to Earth's unique nature compared to other planets we know of, categorized for clarity:\n\n**I. Conditions for Liquid Water & Life:**\n\n*   **Liquid Water on the Surface:** This is arguably Earth's most defining characteristic.  No other planet in our solar system has stable bodies of liquid water on its surface. This is vital for the type of life we know.\n*   **Just Right Temperature:** The \"Goldilocks Zone\" (circumstellar habitable zone) - Earth orbits the sun at a distance that allows for temperatures conducive to liquid water. It's not too hot like Venus, and not too cold like Mars.\n*   **Atmospheric Pressure:** The atmospheric pressure on Earth is suitable for liquid water to exist. Lower pressure (like on Mars) causes water to boil away at lower temperatures.\n*   **Presence of a Substantial Atmosphere:** Earth's atmosphere is thick enough to retain heat, shield us from harmful radiation, and circulate water vapor.\n\n**II. Geological & Geophysical Features:**\n\n*   **Plate Tectonics:** Earth is the only planet in our solar system with active plate tectonics. This process recycles the crust, regulates temperature, and creates diverse landscapes.  It also plays a vital role in the carbon cycle.\n*   **Active Volcanism:**  While other planets have volcanoes (or had them in the past), Earth has ongoing and diverse volcanic activity. This contributes to atmospheric gases and land formation.\n*   **A Strong Magnetic Field:** Generated by the Earth's iron core, the magnetic field deflects harmful solar wind and cosmic radiation, protecting the atmosphere and life on the surface.\n*   **Unique Composition:** Earth's composition of rocks, minerals, and its differentiated layers (crust, mantle, core) are unique in their specific combinations.\n\n**III. Biological Features:**\n\n*   **Abundance of Life:** Earth is the only known planet harboring life.\n*   **Biodiversity:** The sheer variety of life forms (plants, animals, fungi, bacteria, etc.) on Earth is unparalleled in our current understanding of the universe.\n*   **Photosynthesis:** The process by which plants and other organisms convert sunlight into energy, releasing oxygen, is dominant on Earth and has drastically altered its atmosphere.\n*   **Complex Ecosystems:** Interconnected and interdependent communities of living organisms create complex and stable ecosystems.\n*   **Intelligent Life:** Earth is the only planet known to harbor intelligent life capable of advanced reasoning, technology, and self-awareness.\n\n**IV. Orbital & Rotational Characteristics:**\n\n*   **A Large Moon:** The Moon stabilizes Earth's axial tilt, preventing extreme climate variations over long periods. It also influences tides, which have played a role in the evolution of life.\n*   **Axial Tilt:** Earth's axial tilt (obliquity) of approximately 23.5 degrees creates distinct seasons, which influence biological cycles and climate patterns.\n\n**V. Other Factors:**\n\n*   **Abundance of Oxygen:** Earth's atmosphere is rich in free oxygen, a byproduct of photosynthesis, which supports complex life forms.\n*   **Ozone Layer:** This layer in the stratosphere absorbs most of the Sun's harmful ultraviolet radiation, protecting life on the surface.\n*   **Carbon Cycle:** A complex cycle involving the atmosphere, oceans, land, and living organisms, regulating the amount of carbon dioxide in the atmosphere and influencing climate.\n\n**Important Considerations:**\n\n*   **Limited Sample Size:** Our understanding of planets is based on a relatively small sample size, primarily focused on our own solar system. There could be other planets with similar or even more unique characteristics that we haven't discovered yet.\n*   **Ongoing Research:** Our knowledge of planets and their characteristics is constantly evolving as we continue to explore and study the universe.\n\nIn summary, Earth's unique combination of geological activity, atmospheric conditions, and the presence of liquid water has made it the only known planet capable of supporting complex life. However, the universe is vast, and the search for other potentially habitable worlds continues.\n"
          },
          "metadata": {}
        }
      ],
      "source": [
        "prompt = \"Generate a list of ways that makes Earth unique compared to other planets\"\n",
        "\n",
        "response = client.models.generate_content(model=MODEL_ID, contents=prompt)\n",
        "display(Markdown(response.text))"
      ]
    },
    {
      "cell_type": "markdown",
      "metadata": {
        "id": "R5kmfZYHZsJ7"
      },
      "source": [
        "### Ask one task at a time"
      ]
    },
    {
      "cell_type": "markdown",
      "metadata": {
        "id": "rsAezxeYZuUN"
      },
      "source": [
        "🛑 Not recommended. The prompt below has two parts to the question that could be asked separately."
      ]
    },
    {
      "cell_type": "code",
      "execution_count": 10,
      "metadata": {
        "id": "ElywPXpuZtWf",
        "outputId": "86817bed-7ca0-4262-8c00-e6ea9fc13860",
        "colab": {
          "base_uri": "https://localhost:8080/",
          "height": 929
        }
      },
      "outputs": [
        {
          "output_type": "display_data",
          "data": {
            "text/plain": [
              "<IPython.core.display.Markdown object>"
            ],
            "text/markdown": "Let's tackle these two unrelated questions separately:\n\n**Best Method of Boiling Water:**\n\nThere isn't one single \"best\" method, as it depends on your needs and available resources. Here's a breakdown of common methods, their pros/cons, and when they're best suited:\n\n*   **Electric Kettle:**\n    *   **Pros:** Fast, convenient, energy-efficient (usually shuts off automatically), easy to use, portable.\n    *   **Cons:** Requires electricity.  Can be more expensive initially.\n    *   **Best For:** Home use, office use, travel (if you have access to electricity).\n\n*   **Stovetop Kettle:**\n    *   **Pros:**  Can be used on any stovetop (gas, electric, induction), inexpensive, durable, no electricity required to heat water.\n    *   **Cons:**  Can take longer than an electric kettle, requires monitoring (doesn't shut off automatically), heats the entire room more than an electric kettle.\n    *   **Best For:** Home use, camping (over a portable stove), situations where electricity is unreliable.\n\n*   **Microwave:**\n    *   **Pros:** Quick (for small amounts), convenient.\n    *   **Cons:** Uneven heating (can lead to superheated water, which can cause it to explode when disturbed), not ideal for large volumes.  Can impart a taste from the container.\n    *   **Best For:** Heating small amounts of water quickly, warming drinks. Generally not recommended as a primary boiling method due to safety concerns and uneven heating.\n\n*   **Hot Plate/Immersion Heater:**\n    *   **Pros:** Portable, can be used with a variety of containers.\n    *   **Cons:** Can be slow, potential safety hazards (immersion heaters must be fully submerged), not energy-efficient.\n    *   **Best For:** Travel, situations where other options are unavailable (e.g., camping without a stove).  Immersion heaters are generally discouraged due to safety.\n\n*   **Fire (Campfire/Wood Stove):**\n    *   **Pros:**  Doesn't require electricity or specialized equipment (if you have fire-starting materials), useful in emergencies.\n    *   **Cons:**  Slow, smoky, requires constant monitoring, not environmentally friendly (due to emissions), requires fire safety knowledge and precautions.\n    *   **Best For:**  Camping, survival situations.\n\n**In summary, the \"best\" method depends on the context. For most everyday home use, an electric kettle is often the best balance of speed, convenience, and efficiency.**\n\n**Why is the sky blue?**\n\nThe sky is blue because of a phenomenon called **Rayleigh scattering**.\n\nHere's the simplified explanation:\n\n1.  **Sunlight enters the Earth's atmosphere:** Sunlight is made up of all the colors of the rainbow.\n\n2.  **Light interacts with air molecules:** As sunlight enters the atmosphere, it collides with tiny air molecules (mostly nitrogen and oxygen).\n\n3.  **Blue light is scattered more:**  Rayleigh scattering is more effective at shorter wavelengths. Blue and violet light have shorter wavelengths than other colors (red, orange, yellow).  Therefore, blue and violet light are scattered much more strongly than other colors.\n\n4.  **Why not violet?** While violet light is scattered even more than blue, there are a couple of reasons we see the sky as blue:\n    *   The sun emits slightly less violet light than blue light.\n    *   Our eyes are more sensitive to blue light than violet light.\n    *   The atmosphere absorbs some of the violet light.\n\n5.  **Blue light reaches our eyes from all directions:** Because blue light is scattered in all directions by the air molecules, it appears to come from all parts of the sky. This is why the sky looks blue overall.\n\n**In short, the sky is blue because air molecules scatter blue light from the sun more than they scatter other colors.**\n"
          },
          "metadata": {}
        }
      ],
      "source": [
        "prompt = \"What's the best method of boiling water and why is the sky blue?\"\n",
        "\n",
        "response = client.models.generate_content(model=MODEL_ID, contents=prompt)\n",
        "display(Markdown(response.text))"
      ]
    },
    {
      "cell_type": "markdown",
      "metadata": {
        "id": "ejzahazBZ8vk"
      },
      "source": [
        "✅ Recommended. The prompts below asks one task a time."
      ]
    },
    {
      "cell_type": "code",
      "execution_count": 11,
      "metadata": {
        "id": "C5ckp2F0Z_Ba",
        "outputId": "6369253e-d0d8-4501-81e4-60cc786102ae",
        "colab": {
          "base_uri": "https://localhost:8080/",
          "height": 1000
        }
      },
      "outputs": [
        {
          "output_type": "display_data",
          "data": {
            "text/plain": [
              "<IPython.core.display.Markdown object>"
            ],
            "text/markdown": "The \"best\" method of boiling water depends on your priorities: speed, energy efficiency, convenience, or availability of resources. Here's a breakdown of the most common methods and their pros and cons:\n\n**1. Electric Kettle:**\n\n*   **Pros:**\n    *   **Fastest:** Typically the fastest way to boil a small to medium amount of water (up to a liter or two).\n    *   **Energy Efficient:** Generally more efficient than stovetop methods because the heating element is directly in contact with the water.\n    *   **Convenient:** Easy to use, usually has automatic shut-off features.\n    *   **Precise Temperature Control (some models):**  Some kettles allow you to set specific temperatures, ideal for different teas.\n\n*   **Cons:**\n    *   **Requires Electricity:** Not suitable for camping or off-grid situations.\n    *   **Capacity Limited:** Generally smaller capacity than stovetop pots.\n    *   **Can be Noisy:** Some kettles can be quite loud.\n\n**2. Stovetop (Gas or Electric):**\n\n*   **Pros:**\n    *   **Versatile:** Can use various pots and pans, accommodating different volumes of water.\n    *   **Relatively Fast (especially gas):**  Gas stoves are typically faster than electric stoves for boiling water.\n    *   **No Special Equipment Required:** You likely already have a stovetop and a pot.\n\n*   **Cons:**\n    *   **Less Energy Efficient:** More heat is lost to the surrounding air compared to an electric kettle.\n    *   **Slower than Electric Kettle (electric stovetops):** Electric stovetops can take a long time to boil water.\n    *   **Requires Monitoring:**  You need to keep an eye on the pot to prevent it from boiling over.\n    *   **Uneven Heating (electric stovetops):** Some electric stovetops have uneven heat distribution.\n\n**3. Microwave Oven:**\n\n*   **Pros:**\n    *   **Fast (small amounts):**  Can be quicker than stovetop for very small amounts of water (1-2 cups).\n    *   **Convenient:** Easy to use.\n\n*   **Cons:**\n    *   **Uneven Heating:**  Microwaves can heat water unevenly, leading to \"superheating\" where the water gets hotter than its boiling point without visible bubbles.  This can cause the water to erupt violently when disturbed (e.g., adding a tea bag). **Always use a microwave-safe container and insert a wooden chopstick/skewer or plastic spoon to prevent this.**\n    *   **Not Energy Efficient:** Less efficient than electric kettles.\n    *   **Can Be Dangerous (Superheating):** As mentioned above, superheating is a safety hazard.\n    *   **Not Recommended for Large Volumes:** Takes a long time and is inefficient for large amounts of water.\n\n**4. Campfire/Open Fire:**\n\n*   **Pros:**\n    *   **Suitable for Off-Grid Situations:** Useful when electricity is unavailable.\n    *   **Rustic:**  Can be part of the outdoor experience.\n\n*   **Cons:**\n    *   **Slowest:** Typically the slowest method.\n    *   **Requires Supervision:**  Fire safety is paramount.\n    *   **Can Impart Soot/Smoke Flavor:**  Water may pick up smoky flavors.\n    *   **Requires Special Equipment:** You need a fire-safe container (e.g., a metal kettle or pot).\n\n**Summary Table:**\n\n| Method           | Speed        | Energy Efficiency | Convenience | Other Considerations                                        |\n|-------------------|-------------|-------------------|-------------|-----------------------------------------------------------|\n| Electric Kettle  | Fastest      | Most Efficient    | Most Convenient | Requires electricity, limited capacity                       |\n| Stovetop (Gas)    | Fast         | Moderate          | Convenient   | More heat loss, requires monitoring                          |\n| Stovetop (Electric) | Slow        | Moderate          | Convenient   | Slower boiling, uneven heating, requires monitoring        |\n| Microwave        | Fast (small) | Least Efficient   | Convenient   | Uneven heating, superheating risk, not for large volumes  |\n| Campfire         | Slowest       | N/A              | Least Convenient| Requires fire-safe container, soot/smoke flavor, outdoor only |\n\n**The Verdict:**\n\n*   **For everyday use at home:** An **electric kettle** is generally the best choice for its speed, energy efficiency, and convenience.\n*   **For large volumes or stovetop cooking needs:** A **stovetop pot** (gas or electric) is suitable.\n*   **For emergencies or off-grid situations:** A **campfire** is the only option.\n*   **For very small amounts and quick heating (with caution):** A **microwave** can be used, but be extremely careful about superheating.\n\nUltimately, the \"best\" method depends on your specific needs and situation. Consider what matters most to you – speed, energy saving, convenience, or availability – and choose accordingly.\n"
          },
          "metadata": {}
        }
      ],
      "source": [
        "prompt = \"What's the best method of boiling water?\"\n",
        "\n",
        "response = client.models.generate_content(model=MODEL_ID, contents=prompt)\n",
        "display(Markdown(response.text))"
      ]
    },
    {
      "cell_type": "code",
      "execution_count": 12,
      "metadata": {
        "id": "KwUzhud4aA89",
        "outputId": "0caf807a-d310-413c-e79b-6658c3330250",
        "colab": {
          "base_uri": "https://localhost:8080/",
          "height": 279
        }
      },
      "outputs": [
        {
          "output_type": "display_data",
          "data": {
            "text/plain": [
              "<IPython.core.display.Markdown object>"
            ],
            "text/markdown": "The sky is blue because of a phenomenon called **Rayleigh scattering**. Here's a breakdown:\n\n*   **Sunlight:** Sunlight is actually made up of all the colors of the rainbow.\n*   **Entering the Atmosphere:** When sunlight enters the Earth's atmosphere, it collides with tiny air molecules (mostly nitrogen and oxygen).\n*   **Scattering:** This collision causes the light to scatter in different directions.\n*   **Rayleigh Scattering:** Rayleigh scattering is more effective at shorter wavelengths (colors like blue and violet). This means blue and violet light are scattered much more than longer wavelengths (colors like red and yellow).\n*   **Why Blue, Not Violet?** Although violet is scattered more than blue, there are a couple of reasons why we see a blue sky:\n    *   The sun emits slightly less violet light than blue light.\n    *   Our eyes are more sensitive to blue than violet.\n\n**In simple terms:** Imagine throwing a ball (sunlight) at a bunch of small objects (air molecules). The smaller, lighter balls (blue and violet light) are bounced around more than the bigger, heavier balls (red and yellow light). We see the blue light scattered all over the sky.\n\n**Why are sunsets red?** When the sun is low on the horizon, sunlight has to travel through more of the atmosphere to reach our eyes. The blue light is scattered away almost completely, leaving the longer wavelengths like red, orange, and yellow to dominate what we see.\n"
          },
          "metadata": {}
        }
      ],
      "source": [
        "prompt = \"Why is the sky blue?\"\n",
        "\n",
        "response = client.models.generate_content(model=MODEL_ID, contents=prompt)\n",
        "display(Markdown(response.text))"
      ]
    },
    {
      "cell_type": "markdown",
      "metadata": {
        "id": "PJIL2RTQaGcT"
      },
      "source": [
        "### Watch out for hallucinations"
      ]
    },
    {
      "cell_type": "markdown",
      "metadata": {
        "id": "8Y8kYxrSaHE9"
      },
      "source": [
        "Although LLMs have been trained on a large amount of data, they can generate text containing statements not grounded in truth or reality; these responses from the LLM are often referred to as \"hallucinations\" due to their limited memorization capabilities. Note that simply prompting the LLM to provide a citation isn't a fix to this problem, as there are instances of LLMs providing false or inaccurate citations. Dealing with hallucinations is a fundamental challenge of LLMs and an ongoing research area, so it is important to be cognizant that LLMs may seem to give you confident, correct-sounding statements that are in fact incorrect.\n",
        "\n",
        "Note that if you intend to use LLMs for the creative use cases, hallucinating could actually be quite useful."
      ]
    },
    {
      "cell_type": "markdown",
      "metadata": {
        "id": "8NY5nAGeaJYS"
      },
      "source": [
        "Try the prompt like the one below repeatedly. We set the temperature to `1.0` so that it takes more risks in its choices. It's possible that it may provide an inaccurate, but confident answer."
      ]
    },
    {
      "cell_type": "code",
      "execution_count": 13,
      "metadata": {
        "id": "QALPjEILaM62",
        "outputId": "43adb04a-1b4e-49b0-f9c5-6df2bce6f021",
        "colab": {
          "base_uri": "https://localhost:8080/",
          "height": 122
        }
      },
      "outputs": [
        {
          "output_type": "display_data",
          "data": {
            "text/plain": [
              "<IPython.core.display.Markdown object>"
            ],
            "text/markdown": "I am an AI and do not have a sense of time or awareness of the current date. To find out what day it is, you can:\n\n*   Look at a calendar.\n*   Check the date on your computer, phone, or other device.\n*   Ask someone nearby.\n*   Search on Google \"What day is it?\"."
          },
          "metadata": {}
        }
      ],
      "source": [
        "generation_config = GenerateContentConfig(temperature=1.0)\n",
        "\n",
        "prompt = \"What day is it today?\"\n",
        "\n",
        "response = client.models.generate_content(model=MODEL_ID, contents=prompt)\n",
        "display(Markdown(response.text))"
      ]
    },
    {
      "cell_type": "markdown",
      "metadata": {
        "id": "BRkwzbgRbhKt"
      },
      "source": [
        "Since LLMs do not have access to real-time information without further integrations, you may have noticed it hallucinates what day it is today in some of the outputs."
      ]
    },
    {
      "cell_type": "markdown",
      "metadata": {
        "id": "3c811e310d02"
      },
      "source": [
        "### Using system instructions to guardrail the model from irrelevant responses\n",
        "\n",
        "How can we attempt to reduce the chances of irrelevant responses and hallucinations?\n",
        "\n",
        "One way is to provide the LLM with [system instructions](https://cloud.google.com/vertex-ai/generative-ai/docs/multimodal/send-chat-prompts-gemini#system-instructions).\n",
        "\n",
        "Let's see how system instructions works and how you can use them to reduce hallucinations or irrelevant questions for a travel chatbot.\n",
        "\n",
        "Suppose we ask a simple question about one of Italy's most famous tourist spots."
      ]
    },
    {
      "cell_type": "code",
      "execution_count": 14,
      "metadata": {
        "id": "rB6zJU76biFK",
        "outputId": "6334aa41-f260-4093-a9b8-a35b196cdf92",
        "colab": {
          "base_uri": "https://localhost:8080/",
          "height": 215
        }
      },
      "outputs": [
        {
          "output_type": "display_data",
          "data": {
            "text/plain": [
              "<IPython.core.display.Markdown object>"
            ],
            "text/markdown": "Milan offers a wealth of sightseeing opportunities! Here are some must-see spots:\n\n*   **Duomo di Milano:** The iconic Milan Cathedral, a masterpiece of Gothic architecture. You can also go to the rooftop for city views.\n*   **Galleria Vittorio Emanuele II:** A stunning 19th-century shopping arcade, known for its architecture and luxury shops.\n*   **Teatro alla Scala:** One of the world's most famous opera houses.\n*   **Sforza Castle (Castello Sforzesco):** A historic castle that houses several museums and art collections.\n*   **Santa Maria delle Grazie:** This church is home to Leonardo da Vinci's masterpiece, \"The Last Supper.\" (Book tickets well in advance!)\n*   **Brera District:** A charming neighborhood known for its art galleries, boutiques, and cafes.\n*   **Pinacoteca di Brera:** An important art gallery.\n\nDo you have any specific interests that would help me narrow down the suggestions for you? For example, are you interested in art, history, shopping, or something else?\n"
          },
          "metadata": {}
        }
      ],
      "source": [
        "generation_config = GenerateContentConfig(temperature=1.0)\n",
        "\n",
        "chat = client.chats.create(\n",
        "    model=MODEL_ID,\n",
        "    config=GenerateContentConfig(\n",
        "        system_instruction=[\n",
        "            \"Hello! You are an AI chatbot for a travel web site.\",\n",
        "            \"Your mission is to provide helpful queries for travelers.\",\n",
        "            \"Remember that before you answer a question, you must check to see if it complies with your mission.\",\n",
        "            \"If not, you can say, Sorry I can't answer that question.\",\n",
        "        ]\n",
        "    ),\n",
        ")\n",
        "\n",
        "prompt = \"What is the best place for sightseeing in Milan, Italy?\"\n",
        "\n",
        "response = chat.send_message(prompt)\n",
        "display(Markdown(response.text))"
      ]
    },
    {
      "cell_type": "markdown",
      "metadata": {
        "id": "WZa-Qcf9cF4A"
      },
      "source": [
        "Now let us pretend to be a user asks the chatbot a question that is unrelated to travel."
      ]
    },
    {
      "cell_type": "code",
      "execution_count": 15,
      "metadata": {
        "id": "AZKBIDr2cGnu",
        "outputId": "86b90662-cba6-4595-cd80-0064438d322e",
        "colab": {
          "base_uri": "https://localhost:8080/",
          "height": 215
        }
      },
      "outputs": [
        {
          "output_type": "display_data",
          "data": {
            "text/plain": [
              "<IPython.core.display.Markdown object>"
            ],
            "text/markdown": "Milan offers a wealth of sightseeing opportunities! Here are some must-see spots:\n\n*   **Duomo di Milano:** The iconic Milan Cathedral, a masterpiece of Gothic architecture. You can also go to the rooftop for city views.\n*   **Galleria Vittorio Emanuele II:** A stunning 19th-century shopping arcade, known for its architecture and luxury shops.\n*   **Teatro alla Scala:** One of the world's most famous opera houses.\n*   **Sforza Castle (Castello Sforzesco):** A historic castle that houses several museums and art collections.\n*   **Santa Maria delle Grazie:** This church is home to Leonardo da Vinci's masterpiece, \"The Last Supper.\" (Book tickets well in advance!)\n*   **Brera District:** A charming neighborhood known for its art galleries, boutiques, and cafes.\n*   **Pinacoteca di Brera:** An important art gallery.\n\nDo you have any specific interests that would help me narrow down the suggestions for you? For example, are you interested in art, history, shopping, or something else?\n"
          },
          "metadata": {}
        }
      ],
      "source": [
        "prompt = \"What is the best place for sightseeing in Milan, Italy?\"\n",
        "\n",
        "response = chat.send_message(prompt)\n",
        "display(Markdown(response.text))"
      ]
    },
    {
      "cell_type": "markdown",
      "metadata": {
        "id": "JiUYIhwpctCy"
      },
      "source": [
        "You can see that this way, a guardrail in the prompt prevented the chatbot from veering off course."
      ]
    },
    {
      "cell_type": "markdown",
      "metadata": {
        "id": "ZuuDhA37cvmP"
      },
      "source": [
        "### Turn generative tasks into classification tasks to reduce output variability"
      ]
    },
    {
      "cell_type": "markdown",
      "metadata": {
        "id": "kUCUrsUzczmb"
      },
      "source": [
        "#### Generative tasks lead to higher output variability"
      ]
    },
    {
      "cell_type": "markdown",
      "metadata": {
        "id": "a1xASHAkc46n"
      },
      "source": [
        "The prompt below results in an open-ended response, useful for brainstorming, but response is highly variable."
      ]
    },
    {
      "cell_type": "code",
      "execution_count": 16,
      "metadata": {
        "id": "nPfXQWIacwRf",
        "outputId": "4f06e89c-8da7-4921-87d0-e1802be30579",
        "colab": {
          "base_uri": "https://localhost:8080/",
          "height": 1000
        }
      },
      "outputs": [
        {
          "output_type": "display_data",
          "data": {
            "text/plain": [
              "<IPython.core.display.Markdown object>"
            ],
            "text/markdown": "Okay, considering you're a high school student looking to improve your programming skills, here are a few activity recommendations, broken down by skill level and interest, along with why they're beneficial:\n\n**Beginner Level (Just starting or a little experience):**\n\n*   **Activity:** **Text-Based Adventure Game**\n    *   **Description:** A simple game where the user interacts with the program by typing commands.  The game progresses based on these commands (e.g., \"go north\", \"take sword\", \"look around\").\n    *   **Benefits:**\n        *   **Fundamental Concepts:**  Reinforces variables, input/output, conditional statements (if/else), loops (while), and basic string manipulation.\n        *   **Logic and Problem-Solving:**  Forces you to think about program flow and how different parts interact.\n        *   **Project Structure:** Encourages organizing code into functions (e.g., a function to handle player movement, a function to describe the current location).\n        *   **Language Choice:**  Excellent for Python, Java, or even JavaScript (in a console environment).\n    *   **Example:**  [See here for a Python tutorial](https://realpython.com/intermediate-python-project-ideas/#text-based-adventure-game)\n\n*   **Activity:** **Simple Calculator**\n    *   **Description:** A program that takes two numbers and an operation (addition, subtraction, multiplication, division) as input and outputs the result.\n    *   **Benefits:**\n        *   **Input/Output:**  Practices getting data from the user and displaying results.\n        *   **Data Types:**  Working with numbers (integers, floats).\n        *   **Conditional Statements:**  Using `if/else` or `switch` statements to perform different operations.\n        *   **Error Handling:**  Handling cases like division by zero or invalid input.\n        *   **Language Choice:**  Good for any language, especially Python, Java, C++, or C#.\n    *   **Example:**  Easily found with a quick Google search for \"[language] simple calculator tutorial\".\n\n**Intermediate Level (Comfortable with basic concepts):**\n\n*   **Activity:** **To-Do List Application**\n    *   **Description:** A program that allows the user to add, view, mark as complete, and delete tasks.\n    *   **Benefits:**\n        *   **Data Structures:** Introduces lists or arrays to store the tasks.  You could even explore dictionaries/maps to associate task details.\n        *   **Functions:**  Breaking down the program into functions for adding, deleting, displaying, etc.\n        *   **User Interface (Optional):** You can start with a command-line interface, but consider a simple GUI using Tkinter (Python), Swing (Java), or a web framework (HTML, CSS, JavaScript).\n        *   **File Handling (Optional):** Save and load the to-do list from a file.\n        *   **Language Choice:**  Great for Python, Java, JavaScript (with HTML/CSS), or C#.\n    *   **Example:**  Look for \"to-do list application tutorial [language]\"\n\n*   **Activity:** **Simple Game (e.g., Guessing Game, Number Game, Simple Board Game)**\n    *   **Description:** A program that lets the user play a basic game against the computer. Examples include:\n        *   **Number Guessing Game:** The computer chooses a number, and the user tries to guess it.\n        *   **Rock, Paper, Scissors:**  User plays against the computer.\n        *   **Tic-Tac-Toe:**  A classic two-player game (you can make it single-player against the computer).\n    *   **Benefits:**\n        *   **Random Number Generation:**  Using random number functions.\n        *   **Logic and Decision-Making:**  Implementing game rules and AI (even a very simple AI).\n        *   **User Input:** Handling user input and validating it.\n        *   **Game Loops:** Understanding the main game loop.\n        *   **Language Choice:**  Python (with Pygame), Java, C++, JavaScript (with HTML/Canvas).\n    *   **Example:**  Search for \"[game name] tutorial [language]\".\n\n**Advanced Level (Confident with data structures, algorithms, and object-oriented programming):**\n\n*   **Activity:** **Web Scraper**\n    *   **Description:** A program that automatically extracts data from websites. For example, you could scrape product prices from an e-commerce site or news headlines from a news site.\n    *   **Benefits:**\n        *   **Libraries:** Using libraries like `requests` and `Beautiful Soup` (Python) or similar libraries in other languages.\n        *   **HTML/CSS Structure:**  Understanding how websites are structured.\n        *   **Regular Expressions (Optional):**  For more complex data extraction.\n        *   **Data Storage:**  Storing the scraped data in a file (CSV, JSON) or a database.\n        *   **Language Choice:** Python is very popular for web scraping, but you can also use Java or Node.js (JavaScript).\n    *   **Ethical Considerations:** **Important:** Always respect the website's `robots.txt` file and don't overload the server with requests.\n    *   **Example:**  Search for \"web scraping tutorial [language]\".\n\n*   **Activity:** **Data Analysis Project**\n    *   **Description:** Choose a dataset (easily found online - Kaggle is a great resource) and perform some analysis on it.  For example:\n        *   Analyze housing prices to find trends.\n        *   Analyze social media data to understand sentiment.\n        *   Analyze sports statistics to identify top performers.\n    *   **Benefits:**\n        *   **Data Analysis Libraries:**  Learning to use libraries like Pandas and NumPy (Python) or similar libraries in R.\n        *   **Data Visualization:**  Creating charts and graphs to visualize the data (using Matplotlib, Seaborn, or Plotly).\n        *   **Statistical Concepts:** Applying basic statistical techniques.\n        *   **Problem Solving:**  Formulating questions and finding answers in the data.\n        *   **Language Choice:**  Python or R are the most common choices.\n    *   **Example:**  Kaggle provides datasets and tutorials.  Search for \"data analysis project [language]\".\n\n**General Tips for All Levels:**\n\n*   **Break it Down:** Divide the project into smaller, manageable tasks.\n*   **Plan First:** Before you start coding, write down the steps you need to take.  A simple flowchart can be helpful.\n*   **Start Small:**  Begin with a basic version of the program and add features incrementally.\n*   **Test Your Code:**  Test your code frequently as you write it.  Don't wait until the end to test everything.\n*   **Google is Your Friend:**  Don't be afraid to search for answers online.  Stack Overflow is a great resource.\n*   **Read Documentation:**  Learn how to read the documentation for the language and libraries you are using.\n*   **Practice Regularly:** The more you practice, the better you will become.\n*   **Have Fun!** Choose a project that interests you.  You're more likely to stick with it if you're enjoying it.\n*   **Use a Version Control System (Git):** Learn the basics of Git and GitHub. This is an invaluable skill for any programmer. Even for small projects, it helps you track changes and revert to previous versions.\n\n**How to Choose the Right Activity:**\n\n*   **Consider Your Interests:** What are you passionate about?  If you like games, start with a game project.  If you like data, try a data analysis project.\n*   **Think About Your Goals:** What do you want to learn?  Do you want to learn a new language?  Do you want to improve your data structures and algorithms skills?\n*   **Start with Something Simple:** Don't try to tackle a huge project right away.  Start with something small and manageable, and gradually increase the complexity.\n*   **Be Realistic:** Don't choose a project that is too difficult for your current skill level.  You're more likely to get discouraged.\n\nGood luck, and have fun coding!\n"
          },
          "metadata": {}
        }
      ],
      "source": [
        "prompt = \"I'm a high school student. Recommend me a programming activity to improve my skills.\"\n",
        "\n",
        "response = client.models.generate_content(model=MODEL_ID, contents=prompt)\n",
        "display(Markdown(response.text))"
      ]
    },
    {
      "cell_type": "markdown",
      "metadata": {
        "id": "iAmm9wPYc_1o"
      },
      "source": [
        "#### Classification tasks reduces output variability"
      ]
    },
    {
      "cell_type": "markdown",
      "metadata": {
        "id": "VvRpK_0GdCpf"
      },
      "source": [
        "The prompt below results in a choice and may be useful if you want the output to be easier to control."
      ]
    },
    {
      "cell_type": "code",
      "execution_count": 17,
      "metadata": {
        "id": "kYDKh0r2dAqo",
        "outputId": "038a4334-f35f-4d28-af20-0588103da00d",
        "colab": {
          "base_uri": "https://localhost:8080/",
          "height": 883
        }
      },
      "outputs": [
        {
          "output_type": "display_data",
          "data": {
            "text/plain": [
              "<IPython.core.display.Markdown object>"
            ],
            "text/markdown": "Okay, as a high school student looking to learn a programming language, I would strongly suggest choosing **either Python (a) or JavaScript (b)**. Here's a breakdown of why and why not:\n\n**Highly Recommended: Python (a)**\n\n*   **Beginner-Friendly:** Python has a relatively simple and readable syntax. It's designed to be easy to learn, making it a great starting point for beginners. You can quickly grasp fundamental programming concepts without getting bogged down in complicated syntax.\n*   **Versatility:** Python is incredibly versatile. You can use it for:\n    *   **Web Development (Backend):** Using frameworks like Django or Flask.\n    *   **Data Science and Machine Learning:** Python is the dominant language in these fields. There are tons of libraries like NumPy, Pandas, Scikit-learn, and TensorFlow.\n    *   **Scripting and Automation:** Automate tasks on your computer, like renaming files, downloading data, etc.\n    *   **Game Development:**  Using libraries like Pygame.\n    *   **Scientific Computing:** Widely used in research and engineering.\n*   **Large and Supportive Community:** Python has a HUGE and active community. This means you can easily find help online through forums like Stack Overflow, tutorials, documentation, and readily available libraries.\n*   **Job Market:** Python is in high demand in the job market. Learning it can open up opportunities for internships and future career prospects.\n\n**Highly Recommended: JavaScript (b)**\n\n*   **Front-End Web Development:** JavaScript is *the* language of the web browser. If you want to build interactive websites, create dynamic user interfaces, or work on front-end development, JavaScript is essential.\n*   **Full-Stack Development:** With frameworks like Node.js, you can also use JavaScript on the backend, allowing you to build entire web applications using a single language (\"full-stack\").\n*   **Large Community and Resources:**  Similar to Python, JavaScript has a massive and supportive community with a wealth of online resources, tutorials, and libraries (like React, Angular, Vue.js).\n*   **Immediate Visual Results:** You can see the results of your JavaScript code immediately in a web browser. This provides instant feedback and makes learning more engaging.\n*   **Constantly Evolving:** The JavaScript ecosystem is constantly evolving with new frameworks and tools, which can be exciting (but also a little overwhelming at times).\n\n**Not Recommended (for a High School Student Starting Out): Fortran (c)**\n\n*   **Specialized Use Case:** Fortran is primarily used in scientific and engineering computing, particularly for numerical simulations and high-performance computing.\n*   **Older Language:** While still powerful in its niche, Fortran is an older language. Its syntax can be less intuitive than Python or JavaScript.\n*   **Smaller Community:** The Fortran community is smaller compared to Python or JavaScript. This can make it harder to find help and resources.\n*   **Less Versatile:** Fortran is not well-suited for general-purpose programming or web development.\n*   **Less Relevant for Beginners:** While it's important in specific fields, it's not the best choice for a high school student exploring programming for the first time. You'll likely find more immediate relevance and enjoyment with Python or JavaScript.\n\n**In Summary:**\n\n*   **Choose Python if:** You're interested in data science, machine learning, scripting, automation, or general-purpose programming. It's a great all-around language with a gentle learning curve.\n\n*   **Choose JavaScript if:** You're interested in web development, building interactive websites, or creating dynamic user interfaces.\n\n**My Top Recommendation:**\n\nIf you're unsure, I'd lean towards **Python** as a starting point. It's versatile, beginner-friendly, and opens doors to many different areas of programming.  Once you have a good grasp of Python, you can always learn JavaScript later if you become interested in web development.\n\n**Final Tip:**\n\nNo matter which language you choose, focus on learning the fundamentals of programming (variables, data types, loops, conditional statements, functions, etc.). These concepts are transferable to other languages, making it easier to learn new ones in the future. Good luck!\n"
          },
          "metadata": {}
        }
      ],
      "source": [
        "prompt = \"\"\"I'm a high school student. Which of these activities do you suggest and why:\n",
        "a) learn Python\n",
        "b) learn JavaScript\n",
        "c) learn Fortran\n",
        "\"\"\"\n",
        "\n",
        "response = client.models.generate_content(model=MODEL_ID, contents=prompt)\n",
        "display(Markdown(response.text))"
      ]
    },
    {
      "cell_type": "markdown",
      "metadata": {
        "id": "iTd60b1GdIsx"
      },
      "source": [
        "### Improve response quality by including examples"
      ]
    },
    {
      "cell_type": "markdown",
      "metadata": {
        "id": "yJi44NejdJYE"
      },
      "source": [
        "Another way to improve response quality is to add examples in your prompt. The LLM learns in-context from the examples on how to respond. Typically, one to five examples (shots) are enough to improve the quality of responses. Including too many examples can cause the model to over-fit the data and reduce the quality of responses.\n",
        "\n",
        "Similar to classical model training, the quality and distribution of the examples is very important. Pick examples that are representative of the scenarios that you need the model to learn, and keep the distribution of the examples (e.g. number of examples per class in the case of classification) aligned with your actual distribution."
      ]
    },
    {
      "cell_type": "markdown",
      "metadata": {
        "id": "sMbLginWdOKs"
      },
      "source": [
        "#### Zero-shot prompt"
      ]
    },
    {
      "cell_type": "markdown",
      "metadata": {
        "id": "Crh2Loi2dQ0v"
      },
      "source": [
        "Below is an example of zero-shot prompting, where you don't provide any examples to the LLM within the prompt itself."
      ]
    },
    {
      "cell_type": "code",
      "execution_count": 18,
      "metadata": {
        "id": "-7myRc-SdTQ4",
        "outputId": "0009b746-a014-455a-ec99-6992808d0883",
        "colab": {
          "base_uri": "https://localhost:8080/",
          "height": 46
        }
      },
      "outputs": [
        {
          "output_type": "display_data",
          "data": {
            "text/plain": [
              "<IPython.core.display.Markdown object>"
            ],
            "text/markdown": "Sentiment: Positive\n"
          },
          "metadata": {}
        }
      ],
      "source": [
        "prompt = \"\"\"Decide whether a Tweet's sentiment is positive, neutral, or negative.\n",
        "\n",
        "Tweet: I loved the new YouTube video you made!\n",
        "Sentiment:\n",
        "\"\"\"\n",
        "\n",
        "response = client.models.generate_content(model=MODEL_ID, contents=prompt)\n",
        "display(Markdown(response.text))"
      ]
    },
    {
      "cell_type": "markdown",
      "metadata": {
        "id": "ucRtPn9SdL64"
      },
      "source": [
        "#### One-shot prompt"
      ]
    },
    {
      "cell_type": "markdown",
      "metadata": {
        "id": "rs0gQH2vdYBi"
      },
      "source": [
        "Below is an example of one-shot prompting, where you provide one example to the LLM within the prompt to give some guidance on what type of response you want."
      ]
    },
    {
      "cell_type": "code",
      "execution_count": 19,
      "metadata": {
        "id": "iEq-KxGYdaT5",
        "outputId": "9de34215-4c0c-4fde-ab62-915b60db6d0b",
        "colab": {
          "base_uri": "https://localhost:8080/",
          "height": 46
        }
      },
      "outputs": [
        {
          "output_type": "display_data",
          "data": {
            "text/plain": [
              "<IPython.core.display.Markdown object>"
            ],
            "text/markdown": "Sentiment: negative\n"
          },
          "metadata": {}
        }
      ],
      "source": [
        "prompt = \"\"\"Decide whether a Tweet's sentiment is positive, neutral, or negative.\n",
        "\n",
        "Tweet: I loved the new YouTube video you made!\n",
        "Sentiment: positive\n",
        "\n",
        "Tweet: That was awful. Super boring 😠\n",
        "Sentiment:\n",
        "\"\"\"\n",
        "\n",
        "response = client.models.generate_content(model=MODEL_ID, contents=prompt)\n",
        "display(Markdown(response.text))"
      ]
    },
    {
      "cell_type": "markdown",
      "metadata": {
        "id": "JnKLjJzmdfL_"
      },
      "source": [
        "#### Few-shot prompt"
      ]
    },
    {
      "cell_type": "markdown",
      "metadata": {
        "id": "6Zv-9F5OdgI_"
      },
      "source": [
        "Below is an example of few-shot prompting, where you provide a few examples to the LLM within the prompt to give some guidance on what type of response you want."
      ]
    },
    {
      "cell_type": "code",
      "execution_count": 20,
      "metadata": {
        "id": "u37P9tG4dk9S",
        "outputId": "a4b7332d-0be3-42c8-8756-f55c8b4a0385",
        "colab": {
          "base_uri": "https://localhost:8080/",
          "height": 46
        }
      },
      "outputs": [
        {
          "output_type": "display_data",
          "data": {
            "text/plain": [
              "<IPython.core.display.Markdown object>"
            ],
            "text/markdown": "Sentiment: positive\n"
          },
          "metadata": {}
        }
      ],
      "source": [
        "prompt = \"\"\"Decide whether a Tweet's sentiment is positive, neutral, or negative.\n",
        "\n",
        "Tweet: I loved the new YouTube video you made!\n",
        "Sentiment: positive\n",
        "\n",
        "Tweet: That was awful. Super boring 😠\n",
        "Sentiment: negative\n",
        "\n",
        "Tweet: Something surprised me about this video - it was actually original. It was not the same old recycled stuff that I always see. Watch it - you will not regret it.\n",
        "Sentiment:\n",
        "\"\"\"\n",
        "\n",
        "response = client.models.generate_content(model=MODEL_ID, contents=prompt)\n",
        "display(Markdown(response.text))"
      ]
    },
    {
      "cell_type": "markdown",
      "metadata": {
        "id": "wDMD3xb2dvX6"
      },
      "source": [
        "#### Choosing between zero-shot, one-shot, few-shot prompting methods"
      ]
    },
    {
      "cell_type": "markdown",
      "metadata": {
        "id": "s92W0YpNdxJp"
      },
      "source": [
        "Which prompt technique to use will solely depends on your goal. The zero-shot prompts are more open-ended and can give you creative answers, while one-shot and few-shot prompts teach the model how to behave so you can get more predictable answers that are consistent with the examples provided."
      ]
    }
  ],
  "metadata": {
    "colab": {
      "name": "intro_prompt_design.ipynb",
      "toc_visible": true,
      "provenance": [],
      "include_colab_link": true
    },
    "kernelspec": {
      "display_name": "Python 3",
      "name": "python3"
    }
  },
  "nbformat": 4,
  "nbformat_minor": 0
}